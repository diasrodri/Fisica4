{
 "cells": [
  {
   "cell_type": "code",
   "execution_count": 3,
   "metadata": {},
   "outputs": [
    {
     "data": {
      "text/html": [
       "<div id=\"scene0\"><div id=\"glowscript\" class=\"glowscript\"></div></div>"
      ],
      "text/plain": [
       "<IPython.core.display.HTML object>"
      ]
     },
     "metadata": {},
     "output_type": "display_data"
    },
    {
     "data": {
      "application/javascript": [
       "require.undef(\"nbextensions/glow.1.0.min\");"
      ],
      "text/plain": [
       "<IPython.core.display.Javascript object>"
      ]
     },
     "metadata": {},
     "output_type": "display_data"
    },
    {
     "data": {
      "application/javascript": [
       "require.undef(\"nbextensions/jquery-ui.custom.min\");"
      ],
      "text/plain": [
       "<IPython.core.display.Javascript object>"
      ]
     },
     "metadata": {},
     "output_type": "display_data"
    },
    {
     "data": {
      "application/javascript": [
       "require.undef(\"nbextensions/glow.1.1.min\");"
      ],
      "text/plain": [
       "<IPython.core.display.Javascript object>"
      ]
     },
     "metadata": {},
     "output_type": "display_data"
    },
    {
     "data": {
      "application/javascript": [
       "require.undef(\"nbextensions/glow.1.2.min\");"
      ],
      "text/plain": [
       "<IPython.core.display.Javascript object>"
      ]
     },
     "metadata": {},
     "output_type": "display_data"
    },
    {
     "data": {
      "application/javascript": [
       "require.undef(\"nbextensions/glow.2.0.min\");"
      ],
      "text/plain": [
       "<IPython.core.display.Javascript object>"
      ]
     },
     "metadata": {},
     "output_type": "display_data"
    },
    {
     "data": {
      "application/javascript": [
       "require.undef(\"nbextensions/glowcomm\");"
      ],
      "text/plain": [
       "<IPython.core.display.Javascript object>"
      ]
     },
     "metadata": {},
     "output_type": "display_data"
    },
    {
     "data": {
      "application/javascript": [
       "require.undef(\"nbextensions/ivglowcomm\");"
      ],
      "text/plain": [
       "<IPython.core.display.Javascript object>"
      ]
     },
     "metadata": {},
     "output_type": "display_data"
    },
    {
     "data": {
      "application/javascript": [
       "require([\"nbextensions/ivglowcomm\"], function(){console.log(\"ivisual glowcomm loaded\");})"
      ],
      "text/plain": [
       "<IPython.core.display.Javascript object>"
      ]
     },
     "metadata": {},
     "output_type": "display_data"
    }
   ],
   "source": [
    "#http://physicslogos.blogspot.com.br/2015/08/running-vpython-in-browser-with.html\n",
    "import numpy as np\n",
    "from __future__ import division, print_function\n",
    "from ivisual import *\n",
    "from math import *\n",
    "#create scene\n",
    "scene = canvas(title='3D scene')\n",
    "\n",
    "sphere()"
   ]
  },
  {
   "cell_type": "code",
   "execution_count": 42,
   "metadata": {},
   "outputs": [
    {
     "data": {
      "text/html": [
       "<div id=\"scene16\"><div id=\"glowscript\" class=\"glowscript\"></div></div>"
      ],
      "text/plain": [
       "<IPython.core.display.HTML object>"
      ]
     },
     "metadata": {},
     "output_type": "display_data"
    },
    {
     "data": {
      "application/javascript": [
       "window.__context = { glowscript_container: $(\"#glowscript\").removeAttr(\"id\")}"
      ],
      "text/plain": [
       "<IPython.core.display.Javascript object>"
      ]
     },
     "metadata": {},
     "output_type": "display_data"
    },
    {
     "name": "stdout",
     "output_type": "stream",
     "text": [
      "\n",
      "Right button drag to rotate \"camera\" to view scene.\n",
      "  On a one-button mouse, right is Command + mouse.\n",
      "Middle button to drag up or down to zoom in or out.\n",
      "  On a two-button mouse, middle is left + right.\n",
      "  On a one-button mouse, middle is Option + mouse.\n",
      "\n"
     ]
    }
   ],
   "source": [
    "#create scene\n",
    "scene = canvas(title='Cartesian Coordinate System',width=1024, height=820,\n",
    "               center=vector(5,0,0), background=color.black)\n",
    "\n",
    "#instructions for manipulating the 3D scene\n",
    "print(\"\"\"\n",
    "Right button drag to rotate \"camera\" to view scene.\n",
    "  On a one-button mouse, right is Command + mouse.\n",
    "Middle button to drag up or down to zoom in or out.\n",
    "  On a two-button mouse, middle is left + right.\n",
    "  On a one-button mouse, middle is Option + mouse.\n",
    "\"\"\")\n",
    "#notebooks\n",
    "#draw x, y, z axes\n",
    "L=150 #length of axes\n",
    "sw=L/1000 #shiftwidth of axes\n",
    "xaxis=arrow(pos=(-L/2,0,0), axis=(L,0,0), shaftwidth=sw, color=color.green)\n",
    "yaxis=arrow(pos=(0,-L/2,0), axis=(0,L,0), shaftwidth=sw, color=color.red)\n",
    "zaxis=arrow(pos=(0,0,-L/2), axis=(0,0,L), shaftwidth=sw, color=color.blue)\n",
    "\n",
    "#draw unit vectors\n",
    "xhat=arrow(pos=(0,0,0), axis=(1,0,0), shaftwidth=2*sw, color=color.orange)\n",
    "yhat=arrow(pos=(0,0,0), axis=(0,1,0), shaftwidth=2*sw, color=color.orange)\n",
    "zhat=arrow(pos=(0,0,0), axis=(0,0,1), shaftwidth=2*sw, color=color.orange)"
   ]
  },
  {
   "cell_type": "code",
   "execution_count": 43,
   "metadata": {},
   "outputs": [],
   "source": [
    "#define a vector\n",
    "for j in range(-1,2):\n",
    "    for k1 in range(-1,2):\n",
    "        for i in range(0,25):\n",
    "            k=2*np.pi/20\n",
    "            x,y,z=k1*10,j*10,i\n",
    "            phi=np.pi/2\n",
    "            kvec=vector(0,0,k)\n",
    "            r=vector(x,y,z)\n",
    "            kdotr=dot(kvec,r)\n",
    "            w=1\n",
    "            t=0\n",
    "            E0x=5*cos(kdotr-w*t)\n",
    "            E0y=5*cos(kdotr-w*t+phi)\n",
    "            p=vector(x,y,z)\n",
    "            E=vector(E0x,E0y,0)\n",
    "            rarrow=arrow(pos=p, axis=E, shaftwidth=0.8*sw, color=color.yellow)\n",
    "            B=np.cross(kvec/k, E)\n",
    "            rarrow=arrow(pos=p, axis=B, shaftwidth=0.8*sw, color=color.magenta)\n"
   ]
  },
  {
   "cell_type": "code",
   "execution_count": 39,
   "metadata": {},
   "outputs": [],
   "source": [
    "#define a vector\n",
    "r=vector(3,4,5)\n",
    "\n",
    "#draw the vector\n",
    "rarrow=arrow(pos=(0,0,0), axis=r, shaftwidth=2*sw, color=color.yellow)\n",
    "\n",
    "#draw the vector components\n",
    "rxarrow=arrow(pos=(0,0,0), axis=(r.x,0,0), shaftwidth=2*sw, color=color.red)\n",
    "ryarrow=arrow(pos=rxarrow.axis, axis=(0,r.y,0), shaftwidth=2*sw, color=color.green)\n",
    "rzarrow=arrow(pos=ryarrow.pos+ryarrow.axis, axis=(0,0,r.z), shaftwidth=2*sw, color=color.blue)"
   ]
  },
  {
   "cell_type": "code",
   "execution_count": null,
   "metadata": {},
   "outputs": [],
   "source": [
    "#define the vectors\n",
    "a=vector(0.5,2,0)\n",
    "b=vector(2,0,0)\n",
    "\n",
    "#compute the dot product and print\n",
    "aDotb=dot(a,b)\n",
    "print(\"a dot b = \", aDotb)\n",
    "\n",
    "#compute the angle between the vectors\n",
    "#convert to deg\n",
    "thetaInrad = acos(aDotb/mag(a)/mag(b))\n",
    "theta = thetaInrad*180/pi\n",
    "print(\"the angle between the vectors is \", theta, \" deg\")\n"
   ]
  },
  {
   "cell_type": "code",
   "execution_count": null,
   "metadata": {},
   "outputs": [],
   "source": [
    "#draw projection of a onto b\n",
    "projAontoB=norm(b)*aDotb\n",
    "projAontoBcyl=cylinder(pos=vector(0,0,0), axis=projAontoB, color=color.magenta, radius=sw)\n",
    "\n",
    "#draw project of b onto a\n",
    "projBontoA=norm(a)*aDotb\n",
    "projBontoAcyl=cylinder(pos=vector(0,0,0), axis=projBontoA, color=color.magenta, radius=sw)"
   ]
  },
  {
   "cell_type": "code",
   "execution_count": null,
   "metadata": {},
   "outputs": [],
   "source": []
  },
  {
   "cell_type": "code",
   "execution_count": null,
   "metadata": {},
   "outputs": [],
   "source": []
  },
  {
   "cell_type": "code",
   "execution_count": null,
   "metadata": {},
   "outputs": [],
   "source": []
  },
  {
   "cell_type": "code",
   "execution_count": null,
   "metadata": {},
   "outputs": [],
   "source": []
  }
 ],
 "metadata": {
  "kernelspec": {
   "display_name": "Python 2",
   "language": "python",
   "name": "python2"
  },
  "language_info": {
   "codemirror_mode": {
    "name": "ipython",
    "version": 3
   },
   "file_extension": ".py",
   "mimetype": "text/x-python",
   "name": "python",
   "nbconvert_exporter": "python",
   "pygments_lexer": "ipython3",
   "version": "3.6.5"
  }
 },
 "nbformat": 4,
 "nbformat_minor": 2
}
